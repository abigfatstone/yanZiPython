{
 "cells": [
  {
   "cell_type": "code",
   "execution_count": 84,
   "metadata": {},
   "outputs": [
    {
     "name": "stdout",
     "output_type": "stream",
     "text": [
      "保留2位小数\t=:3.14\n",
      "四舍五入 \t=:3\n",
      "数字补零:\t=:0003\n",
      "数字补x :\t=:6xxx\n",
      "空格左对齐:\t=:   6\n",
      "空格中间对齐:\t=:   6   :=\n",
      "空格右对齐:\t=:6      :=\n",
      "千分位  :\t=:1,343,424.98\n",
      "百分号  :\t=:413.4412%\n"
     ]
    }
   ],
   "source": [
    "print(\"保留2位小数\\t=:{:.2f}\".format(3.1415925))\n",
    "print(\"四舍五入 \\t=:{:.0f}\".format(3.1415925))\n",
    "print(\"数字补零:\\t=:{:0>4d}\".format(3))\n",
    "print(\"数字补x :\\t=:{:x<4d}\".format(6))\n",
    "print(\"空格左对齐:\\t=:{:>4d}\".format(6))\n",
    "print(\"空格中间对齐:\\t=:{:^7d}:=\".format(6))\n",
    "print(\"空格右对齐:\\t=:{:<7d}:=\".format(6))\n",
    "print(\"千分位  :\\t=:{:,.2f}\".format(1343424.98323))\n",
    "print(\"百分号  :\\t=:{:.4%}\".format(4.134412))"
   ]
  },
  {
   "cell_type": "code",
   "execution_count": 37,
   "metadata": {},
   "outputs": [
    {
     "name": "stdout",
     "output_type": "stream",
     "text": [
      "[2, 3]\n",
      "[3, 4, 5]\n",
      "[1, 2, 3, 4, 5]\n",
      "[0, 1, 2, 3, 4, 5]\n",
      "[0, 2, 4]\n",
      "[1, 3, 5]\n",
      "5\n",
      "4\n",
      "[1, 2, 3, 4]\n",
      "[5, 4, 3, 2, 1, 0]\n",
      "gfedcba\n",
      "[0, 1, 'a', 'b', 2, 3, 4, 5]\n",
      "[0, 1, 'a', 'a', 'b']\n"
     ]
    }
   ],
   "source": [
    "# 列表切片的句法：a[start:stop:step]\n",
    "# Start, stop 和 step 都是可选项. 如果未设置，默认值会是\n",
    "# Start值为0，End为字符串末尾，step值为1\n",
    "a = [0, 1, 2, 3, 4, 5]\n",
    "b = ['a', 'b']\n",
    "print(a[2:4])\n",
    "print(a[3:])\n",
    "print(a[1:])\n",
    "print(a[:])\n",
    "print(a[::2])\n",
    "print(a[1::2])\n",
    "print(a[-1])\n",
    "print(a[-2])\n",
    "print(a[1:-1])\n",
    "print(a[::-1])\n",
    "print(\"abcdefg\"[::-1])\n",
    "\n",
    "a = [0, 1, 2, 3, 4, 5]\n",
    "a[2:2] = b\n",
    "print(a)\n",
    "# a = [0, 1, 2, 3, 4, 5]\n",
    "a[3:10] = b\n",
    "print(a)"
   ]
  },
  {
   "cell_type": "code",
   "execution_count": 89,
   "metadata": {},
   "outputs": [
    {
     "name": "stdout",
     "output_type": "stream",
     "text": [
      "{'a': 1, 'b': 3, 'c': 4}\n",
      "[{'name': 'A', 'age': 30}, {'name': 'B', 'age': 50}, {'name': 'C', 'age': 40}]\n",
      "[{'name': 'A', 'age': 30}, {'name': 'C', 'age': 40}, {'name': 'B', 'age': 50}]\n"
     ]
    }
   ],
   "source": [
    "#合并字典\n",
    "dict1 = { 'a': 1, 'b': 2 }\n",
    "dict2 = { 'b': 3, 'c': 4 }\n",
    "merged = { **dict1, **dict2 }\n",
    "print(merged)\n",
    "\n",
    "#排序\n",
    "a = [{'name':'B', 'age':50}, {'name':'A', 'age':30}, {'name':'C', 'age':40}]\n",
    "print(sorted(a, key=lambda x:x['name'])) # 按姓名排序\n",
    "print(sorted(a, key=lambda x:x['age'])) # 按年龄排序\n"
   ]
  },
  {
   "cell_type": "code",
   "execution_count": 32,
   "metadata": {},
   "outputs": [
    {
     "name": "stdout",
     "output_type": "stream",
     "text": [
      "620448401733239439360000\n"
     ]
    }
   ],
   "source": [
    "#计算阶乘\n",
    "n = 24\n",
    "tmp = 1\n",
    "for i in range(1,n+1):\n",
    "    tmp = tmp * i\n",
    "    \n",
    "print(tmp)    "
   ]
  },
  {
   "cell_type": "code",
   "execution_count": 19,
   "metadata": {},
   "outputs": [
    {
     "name": "stdout",
     "output_type": "stream",
     "text": [
      "5\n",
      "247409\n",
      "538817\n"
     ]
    }
   ],
   "source": [
    "#分解质因数\n",
    "def ac(n):\n",
    "    i=1\n",
    "    for i in range(2,n+1):\n",
    "        if n % i == 0:\n",
    "            break      \n",
    "    return int(n // i)\n",
    "        \n",
    "n = 666540875765\n",
    "nNew = n\n",
    "while n > 1:\n",
    "    nNew = ac(n)\n",
    "    print(n//nNew)   \n",
    "    n = nNew"
   ]
  },
  {
   "cell_type": "code",
   "execution_count": 34,
   "metadata": {},
   "outputs": [
    {
     "data": {
      "text/plain": [
       "(0, [59, 139, 761, 106801])"
      ]
     },
     "execution_count": 34,
     "metadata": {},
     "output_type": "execute_result"
    }
   ],
   "source": [
    "#递归分解质因数\n",
    "def ac(n,listAC = []):\n",
    "    i = 1\n",
    "    for i in range(2,n + 1):\n",
    "        if n % i == 0:  \n",
    "            listAC.append(i)\n",
    "            n,listAC = ac(n//i)\n",
    "            break        \n",
    "    return n//i,listAC\n",
    "    \n",
    "ac(666540875761)\n",
    "    "
   ]
  },
  {
   "cell_type": "code",
   "execution_count": 25,
   "metadata": {},
   "outputs": [
    {
     "name": "stdout",
     "output_type": "stream",
     "text": [
      "['The', '', 'quick', 'brown', 'fox']\n",
      "The  quick  brown  fox\n"
     ]
    }
   ],
   "source": [
    "mystring  =\"The  quick brown fox\"\n",
    "mylist =  mystring.split(' ')\n",
    "print(mylist)\n",
    "\n",
    "mylist = ['The', 'quick', 'brown', 'fox']\n",
    "mystring  =\"  \".join(mylist)\n",
    "print(mystring)"
   ]
  },
  {
   "cell_type": "code",
   "execution_count": 99,
   "metadata": {},
   "outputs": [
    {
     "name": "stdout",
     "output_type": "stream",
     "text": [
      "{1, 2, 3, 4}\n",
      "2 0\n",
      "4\n"
     ]
    }
   ],
   "source": [
    "test = [1, 2, 3, 4, 2, 2, 3, 1, 4, 4, 4]\n",
    "print(set(test))\n",
    "print(test.count(1),test.count(6))\n",
    "print(max(set(test), key=  test.count))"
   ]
  },
  {
   "cell_type": "code",
   "execution_count": null,
   "metadata": {},
   "outputs": [],
   "source": [
    "# 三元运算符，用于条件赋值\n",
    "# 这是使代码兼具简洁性与可读性的另一种方法：[on_true] if [expression] else[on_false]\n",
    "\n",
    "x = \"Success!\" if (y== 2) else \"Failed!\""
   ]
  }
 ],
 "metadata": {
  "kernelspec": {
   "display_name": "Python 3",
   "language": "python",
   "name": "python3"
  },
  "language_info": {
   "codemirror_mode": {
    "name": "ipython",
    "version": 3
   },
   "file_extension": ".py",
   "mimetype": "text/x-python",
   "name": "python",
   "nbconvert_exporter": "python",
   "pygments_lexer": "ipython3",
   "version": "3.8.2"
  }
 },
 "nbformat": 4,
 "nbformat_minor": 4
}
